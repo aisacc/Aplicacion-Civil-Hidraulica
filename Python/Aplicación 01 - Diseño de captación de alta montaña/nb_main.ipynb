{
 "cells": [
  {
   "cell_type": "markdown",
   "metadata": {},
   "source": [
    "# Diseño de captación de alta montaña\n",
    "\n",
    "**Título:** Añadir el nombre completo del proyecto\n",
    "\n",
    "**Autor:** Isacc Alpala\n",
    "\n",
    "## Contexto\n",
    "\n",
    "Añadir información.\n",
    "\n",
    "## Requisitos\n",
    "\n",
    "Añadir información.\n",
    "\n",
    "## Entradas\n",
    "\n",
    "Añadir información."
   ]
  },
  {
   "cell_type": "markdown",
   "metadata": {},
   "source": [
    "## Información general"
   ]
  },
  {
   "cell_type": "code",
   "execution_count": null,
   "metadata": {},
   "outputs": [],
   "source": [
    "from aux_functions import *"
   ]
  },
  {
   "cell_type": "code",
   "execution_count": 2,
   "metadata": {},
   "outputs": [],
   "source": [
    "# Entradas\n",
    "B_rio = 50          # [m]\n",
    "S = 0.0015          # [m/m]\n",
    "n = 0.03\n",
    "Q_capt = 10         # [m3/s]\n",
    "Q_max = 210         # [m3/s]\n",
    "\n",
    "# # Entradas opcionales\n",
    "g = 9.81            # [m/s2]"
   ]
  },
  {
   "cell_type": "markdown",
   "metadata": {},
   "source": [
    "## Diseño de la rejilla"
   ]
  },
  {
   "cell_type": "code",
   "execution_count": 4,
   "metadata": {},
   "outputs": [
    {
     "data": {
      "application/vnd.microsoft.datawrangler.viewer.v0+json": {
       "columns": [
        {
         "name": "index",
         "rawType": "int64",
         "type": "integer"
        },
        {
         "name": "Parámetro",
         "rawType": "object",
         "type": "string"
        },
        {
         "name": "Símbolo",
         "rawType": "object",
         "type": "string"
        },
        {
         "name": "Valor",
         "rawType": "float64",
         "type": "float"
        },
        {
         "name": "Unidad",
         "rawType": "object",
         "type": "string"
        }
       ],
       "conversionMethod": "pd.DataFrame",
       "ref": "6801ac29-0711-4d40-9a27-fa7d54f8edd7",
       "rows": [
        [
         "0",
         "Calado zona de aproximación",
         "H",
         "0.73",
         "m"
        ],
        [
         "1",
         "Ancho de la rejilla",
         "B",
         "10.5",
         "m"
        ],
        [
         "2",
         "Longitud de la rejilla",
         "L",
         "2.0",
         "m"
        ]
       ],
       "shape": {
        "columns": 4,
        "rows": 3
       }
      },
      "text/html": [
       "<div>\n",
       "<style scoped>\n",
       "    .dataframe tbody tr th:only-of-type {\n",
       "        vertical-align: middle;\n",
       "    }\n",
       "\n",
       "    .dataframe tbody tr th {\n",
       "        vertical-align: top;\n",
       "    }\n",
       "\n",
       "    .dataframe thead th {\n",
       "        text-align: right;\n",
       "    }\n",
       "</style>\n",
       "<table border=\"1\" class=\"dataframe\">\n",
       "  <thead>\n",
       "    <tr style=\"text-align: right;\">\n",
       "      <th></th>\n",
       "      <th>Parámetro</th>\n",
       "      <th>Símbolo</th>\n",
       "      <th>Valor</th>\n",
       "      <th>Unidad</th>\n",
       "    </tr>\n",
       "  </thead>\n",
       "  <tbody>\n",
       "    <tr>\n",
       "      <th>0</th>\n",
       "      <td>Calado zona de aproximación</td>\n",
       "      <td>H</td>\n",
       "      <td>0.73</td>\n",
       "      <td>m</td>\n",
       "    </tr>\n",
       "    <tr>\n",
       "      <th>1</th>\n",
       "      <td>Ancho de la rejilla</td>\n",
       "      <td>B</td>\n",
       "      <td>10.50</td>\n",
       "      <td>m</td>\n",
       "    </tr>\n",
       "    <tr>\n",
       "      <th>2</th>\n",
       "      <td>Longitud de la rejilla</td>\n",
       "      <td>L</td>\n",
       "      <td>2.00</td>\n",
       "      <td>m</td>\n",
       "    </tr>\n",
       "  </tbody>\n",
       "</table>\n",
       "</div>"
      ],
      "text/plain": [
       "                     Parámetro Símbolo  Valor Unidad\n",
       "0  Calado zona de aproximación       H   0.73      m\n",
       "1          Ancho de la rejilla       B  10.50      m\n",
       "2       Longitud de la rejilla       L   2.00      m"
      ]
     },
     "execution_count": 4,
     "metadata": {},
     "output_type": "execute_result"
    }
   ],
   "source": [
    "# Entradas\n",
    "L = 2               # [m]\n",
    "beta = 12           # [º]\n",
    "a = 5               # [cm]\n",
    "d = 8               # [cm]\n",
    "\n",
    "# Resultados\n",
    "diseno_rejilla = fnc_diseno_rejilla(Q_capt, B_rio, g, L, beta, a, d)\n",
    "diseno_rejilla"
   ]
  },
  {
   "cell_type": "markdown",
   "metadata": {},
   "source": [
    "## Diseño de la galería"
   ]
  },
  {
   "cell_type": "code",
   "execution_count": null,
   "metadata": {},
   "outputs": [],
   "source": [
    "# Entradas\n",
    "n_gal = 0.045\n",
    "\n",
    "# # Entradas de diseños previos\n",
    "L = 1\n",
    "b = 1\n",
    "\n",
    "# Resultados\n",
    "diseno_galeria, puntos_CAD_solera, puntos_CAD_agua = fnc_diseno_galeria(\n",
    "    n_gal, L, b, beta, Q_capt, g\n",
    ")\n",
    "print(diseno_galeria)"
   ]
  },
  {
   "cell_type": "markdown",
   "metadata": {},
   "source": [
    "## Diseño del desripiador"
   ]
  },
  {
   "cell_type": "code",
   "execution_count": null,
   "metadata": {},
   "outputs": [],
   "source": [
    "# Entradas\n",
    "B1 = 6.5\n",
    "I1 = 0.015\n",
    "\n",
    "# Resultados\n",
    "diseno_desripiador, cumple_comprobacion = fnc_diseno_desripiador(\n",
    "    a, B1, I1, n, Q_capt, g\n",
    ")\n",
    "if cumple_comprobacion: print(diseno_desripiador)\n",
    "else: print(\"Rediseñar\")"
   ]
  },
  {
   "cell_type": "markdown",
   "metadata": {},
   "source": [
    "## Diseño del vertedero lateral"
   ]
  },
  {
   "cell_type": "code",
   "execution_count": null,
   "metadata": {},
   "outputs": [],
   "source": [
    "# Entradas\n",
    "b = 8\n",
    "B = 8\n",
    "r = 0.2\n",
    "\n",
    "# # Entradas de diseños previos\n",
    "hx = 1\n",
    "\n",
    "# Resultados\n",
    "diseno_vertedero_lateral, cumple_comprobacion_conduccion, cumple_condicion_excesos = \\\n",
    "    fnc_diseno_vertedero_lateral(b, B, r, Q_capt, hx, g)\n",
    "if cumple_comprobacion_conduccion and cumple_condicion_excesos: print(diseno_vertedero_lateral)\n",
    "else: print(\"Rediseñar\")"
   ]
  },
  {
   "cell_type": "markdown",
   "metadata": {},
   "source": [
    "## Diseño del canal desripiador"
   ]
  },
  {
   "cell_type": "code",
   "execution_count": null,
   "metadata": {},
   "outputs": [],
   "source": [
    "# Entradas\n",
    "I1 = 0.02\n",
    "B1 = 1.4\n",
    "\n",
    "# Resultados\n",
    "diseno_canal_desripiador = fnc_diseno_canal_desripiador(I1, B1, Q_capt, n, g)\n",
    "print(diseno_canal_desripiador)"
   ]
  },
  {
   "cell_type": "markdown",
   "metadata": {},
   "source": [
    "## Diseño del umbral"
   ]
  },
  {
   "cell_type": "code",
   "execution_count": null,
   "metadata": {},
   "outputs": [],
   "source": [
    "# Entradas\n",
    "P_l = 0.5\n",
    "\n",
    "# # Entradas opcionales\n",
    "longitud_perfil = 6\n",
    "numero_puntos = 25\n",
    "\n",
    "# # Entradas diseños previos\n",
    "h2 = 1\n",
    "\n",
    "# Resultados\n",
    "diseno_umbral = puntos_CAD_perfil_USBR, puntos_CAD_perfil_WES = \\\n",
    "    fnc_diseno_umbral(Q_max, P_l, B_rio, h2, g, longitud_perfil, numero_puntos)\n",
    "print(diseno_umbral)"
   ]
  },
  {
   "cell_type": "markdown",
   "metadata": {},
   "source": [
    "## Diseño del cuenco disipador"
   ]
  },
  {
   "cell_type": "code",
   "execution_count": null,
   "metadata": {},
   "outputs": [],
   "source": [
    "# Entradas\n",
    "s = 0.8\n",
    "M = 2.1\n",
    "\n",
    "# # Entradas de diseños previos\n",
    "P = 1\n",
    "\n",
    "# Resultados\n",
    "diseno_cuenco, tipo_resalto = fnc_diseno_cuenco_disipador(s, M, B_rio, S, n, Q_max, P, g)\n",
    "print(diseno_cuenco)"
   ]
  },
  {
   "cell_type": "markdown",
   "metadata": {},
   "source": [
    "## Diseño de enrocado"
   ]
  },
  {
   "cell_type": "code",
   "execution_count": null,
   "metadata": {},
   "outputs": [],
   "source": [
    "# Entradas\n",
    "# # Entradas de diseños previos\n",
    "Ve = 1\n",
    "\n",
    "# Resultados\n",
    "diseno_enrocado = fnc_diseno_enrocado(Q_max, B_rio, Ve)\n",
    "print(diseno_enrocado)"
   ]
  }
 ],
 "metadata": {
  "kernelspec": {
   "display_name": "Python 3",
   "language": "python",
   "name": "python3"
  },
  "language_info": {
   "codemirror_mode": {
    "name": "ipython",
    "version": 3
   },
   "file_extension": ".py",
   "mimetype": "text/x-python",
   "name": "python",
   "nbconvert_exporter": "python",
   "pygments_lexer": "ipython3",
   "version": "3.12.4"
  }
 },
 "nbformat": 4,
 "nbformat_minor": 2
}
